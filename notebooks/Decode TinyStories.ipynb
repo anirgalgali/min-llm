{
 "cells": [
  {
   "cell_type": "code",
   "execution_count": 86,
   "id": "53dfbf28",
   "metadata": {},
   "outputs": [
    {
     "name": "stdout",
     "output_type": "stream",
     "text": [
      "The autoreload extension is already loaded. To reload it, use:\n",
      "  %reload_ext autoreload\n"
     ]
    }
   ],
   "source": [
    "%load_ext autoreload\n",
    "%autoreload 2"
   ]
  },
  {
   "cell_type": "code",
   "execution_count": null,
   "id": "ea2740d7",
   "metadata": {},
   "outputs": [],
   "source": [
    "import torch\n",
    "from min_llm.models.causal_llm import TransformerLM\n",
    "from min_llm.decoding import Decoder\n",
    "from transformers import AutoTokenizer\n",
    "from min_llm.config import DecoderLMConfig, TransformerConfig, SelfAttentionConfig"
   ]
  },
  {
   "cell_type": "code",
   "execution_count": null,
   "id": "3f344d13",
   "metadata": {},
   "outputs": [],
   "source": [
    "device = torch.device(\"cuda\" if torch.cuda.is_available() else \"cpu\")"
   ]
  },
  {
   "cell_type": "code",
   "execution_count": null,
   "id": "79a72551",
   "metadata": {},
   "outputs": [],
   "source": [
    "tokenizer = AutoTokenizer.from_pretrained(\"openai-community/gpt2\")"
   ]
  },
  {
   "cell_type": "code",
   "execution_count": 88,
   "id": "682b08f6",
   "metadata": {},
   "outputs": [],
   "source": [
    "decoder = Decoder(tokenizer= tokenizer, temperature = 1.0, top_p = 0.2, device = device)"
   ]
  },
  {
   "cell_type": "code",
   "execution_count": null,
   "id": "3f472b95",
   "metadata": {},
   "outputs": [],
   "source": [
    "model_config = DecoderLMConfig(d_model=512,\n",
    "                                   vocab_size = 50257,\n",
    "                                   context_length = 256,\n",
    "                                   n_layers = 4,\n",
    "                                   pos_embedding_type=\"rope\",\n",
    "                                   dropout = 0.1,\n",
    "                                   transformer=TransformerConfig(norm_position = \"pre\",\n",
    "                                                                 norm_type = \"rms\",\n",
    "                                                                 attn = SelfAttentionConfig(\n",
    "                                                                     n_heads=16, \n",
    "                                                                     dropout_attn=0.1))) "
   ]
  },
  {
   "cell_type": "code",
   "execution_count": null,
   "id": "9daf0375",
   "metadata": {},
   "outputs": [],
   "source": [
    "model = TransformerLM(model_config,device=device)\n",
    "checkpoint = torch.load(f\"../experiments/tinystories/szlm82da/checkpoints/best_model.pth\", map_location=device)\n",
    "model.load_state_dict(checkpoint[\"model_state_dict\"])\n",
    "model.eval()"
   ]
  },
  {
   "cell_type": "code",
   "execution_count": null,
   "id": "0a596d82",
   "metadata": {},
   "outputs": [],
   "source": [
    "input_string = r\"There once was a little boy who was very naughty\"\n",
    "output = decoder.decode(model, input_string, max_tokens = 200)\n",
    "print(output)"
   ]
  }
 ],
 "metadata": {
  "kernelspec": {
   "display_name": "fast-torch",
   "language": "python",
   "name": "python3"
  },
  "language_info": {
   "codemirror_mode": {
    "name": "ipython",
    "version": 3
   },
   "file_extension": ".py",
   "mimetype": "text/x-python",
   "name": "python",
   "nbconvert_exporter": "python",
   "pygments_lexer": "ipython3",
   "version": "3.11.13"
  }
 },
 "nbformat": 4,
 "nbformat_minor": 5
}
